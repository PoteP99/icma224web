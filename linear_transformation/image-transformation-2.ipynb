{
 "cells": [
  {
   "cell_type": "markdown",
   "metadata": {
    "collapsed": false
   },
   "source": [
    "# Composing linear transformations\n",
    "\n",
    "**Lemma.** Let $T: \\mathbb{R}^k \\longrightarrow \\mathbb{R}^n$ and $S: \\mathbb{R}^n \\longrightarrow \\mathbb{R}^m$ be linear transformations represented by matrices $A,B$ respectively. Then $S\\circ T:\\mathbb{R}^n\\longrightarrow\\mathbb{R}^n$ is represented by the matrix $BA$.\n"
   ]
  },
  {
   "cell_type": "code",
   "execution_count": 0,
   "metadata": {
    "collapsed": false
   },
   "outputs": [
   ],
   "source": [
    "def plot_image_matrix(*matrices,colors=[],labels=[],includeorigin=True):\n",
    "    \"\"\"Plot points in matrices. Return graphic object containing the pictures, use show(..) to see it\"\"\"\n",
    "    if colors == []:\n",
    "        colors = ['blue','red','purple','green','brown'] # default colors list\n",
    "    if labels == []:\n",
    "        labels = ['matrix' + str(i) for i in range(len(matrices))]\n",
    "    if includeorigin:\n",
    "        g = list_plot([(0,0)],color='white') # add the invisible point at origin so we see axes\n",
    "    else:\n",
    "        g = list_plot([])\n",
    "    for i in range(len(matrices)):\n",
    "        mat = matrices[i]\n",
    "        ptstoplot = list(map(lambda col: (col[0],col[1]), mat.columns())) # use only first two coordinates\n",
    "        lb = labels[i]\n",
    "        c = colors[i]\n",
    "        g = g + list_plot(ptstoplot,plotjoined=True,\n",
    "                          marker='o',legend_label=lb,color=c)\n",
    "    return g\n",
    "\n",
    "def rotmat(theta):\n",
    "    \"\"\"Rotation matrix by angle t radians counter-clockwise around the origin\"\"\"\n",
    "    col1 = (cos(theta),sin(theta))\n",
    "    col2 = (-sin(theta),cos(theta))\n",
    "    return matrix([col1,col2]).T"
   ]
  },
  {
   "cell_type": "markdown",
   "metadata": {
    "collapsed": false
   },
   "source": [
    "### Example.\n",
    "Consider the following the letter \"M\" given by the image matrix $P$. "
   ]
  },
  {
   "cell_type": "code",
   "execution_count": 0,
   "metadata": {
    "collapsed": false
   },
   "outputs": [
   ],
   "source": [
    "pts = [(0.,0.) ,(0.,3.) ,(1.,3.) ,(2.,2.) ,(3.,3.) ,(4.,3.) ,(4.,0.),(3.,0.) ,(3.,2.) ,(2.,1.) ,(1.,2.) ,(1.,0.) ,(0,0)]\n",
    "P = matrix(pts).T\n",
    "pic = plot_image_matrix(P,labels=['matrix P'])\n",
    "show(pic,gridlines=true,aspect_ratio=1)"
   ]
  },
  {
   "cell_type": "markdown",
   "metadata": {
    "collapsed": false
   },
   "source": [
    "Reflect it about the $x$-axis and then reflect the resulting image about the line $y=x$. "
   ]
  },
  {
   "cell_type": "code",
   "execution_count": 0,
   "metadata": {
    "collapsed": false
   },
   "outputs": [
   ],
   "source": [
   ]
  },
  {
   "cell_type": "markdown",
   "metadata": {
    "collapsed": false
   },
   "source": [
    "What is the matrix $A$ such that $AP$ gives the final image?"
   ]
  },
  {
   "cell_type": "code",
   "execution_count": 0,
   "metadata": {
    "collapsed": false
   },
   "outputs": [
   ],
   "source": [
   ]
  },
  {
   "cell_type": "markdown",
   "metadata": {
    "collapsed": false
   },
   "source": [
    "### Example.\n",
    "\n",
    "Let $P$ be an image matrix of the following \"stealth bomber\". (Run the codes to see the picture.)"
   ]
  },
  {
   "cell_type": "code",
   "execution_count": 0,
   "metadata": {
    "collapsed": false
   },
   "outputs": [
   ],
   "source": [
    "pts =[(-2.5,0.5) ,(-3,0) ,(-2,2) ,(-1,0) ,(-1.5,0.5) ,(-2,0.25),(-2.5,0.5)]\n",
    "P = matrix(pts).T\n",
    "pic = plot_image_matrix(P)\n",
    "show(pic,gridlines=true,aspect_ratio=1)"
   ]
  },
  {
   "cell_type": "markdown",
   "metadata": {
    "collapsed": false
   },
   "source": [
    "Perform the following actions consecutively (each action is applied to the previous result). \n",
    "1. Reflect about the $x$-axis.\n",
    "2. Rotate by $60^\\circ$ couter-clockwise around the origin.\n",
    "3. Reflect about the line $y=x$.\n",
    "\n",
    "Create a picture of this sequence of transformations. "
   ]
  },
  {
   "cell_type": "code",
   "execution_count": 0,
   "metadata": {
    "collapsed": false
   },
   "outputs": [
   ],
   "source": [
   ]
  },
  {
   "cell_type": "markdown",
   "metadata": {
    "collapsed": false
   },
   "source": [
    "Find the matrix $A$ such that $AP$ gives the final image."
   ]
  },
  {
   "cell_type": "code",
   "execution_count": 0,
   "metadata": {
    "collapsed": false
   },
   "outputs": [
   ],
   "source": [
   ]
  }
 ],
 "metadata": {
  "kernelspec": {
   "display_name": "SageMath 9.2",
   "language": "sagemath",
   "metadata": {
    "cocalc": {
     "description": "Open-source mathematical software system",
     "priority": 10,
     "url": "https://www.sagemath.org/"
    }
   },
   "name": "sage-9.2",
   "resource_dir": "/ext/jupyter/kernels/sage-9.2"
  },
  "language_info": {
   "codemirror_mode": {
    "name": "ipython",
    "version": 3
   },
   "file_extension": ".py",
   "mimetype": "text/x-python",
   "name": "python",
   "nbconvert_exporter": "python",
   "pygments_lexer": "ipython3",
   "version": "3.7.3"
  }
 },
 "nbformat": 4,
 "nbformat_minor": 4
}