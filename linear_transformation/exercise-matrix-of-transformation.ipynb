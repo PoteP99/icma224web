{
 "cells": [
  {
   "cell_type": "markdown",
   "metadata": {},
   "source": [
    "# Instructions\n",
    "Complete and run the code cells indicated by \"Your Answer\" sections. Convert this document/webpage to a pdf file and submit in Teams assignment."
   ]
  },
  {
   "cell_type": "markdown",
   "metadata": {},
   "source": [
    "# Problem 1 - Finding a standard matrix\n",
    "Suppose $T: \\mathbb{R}^3 \\longrightarrow \\mathbb{R}^3$ is a linear transformation such that\n",
    "\n",
    "$$\n",
    "T \\begin{pmatrix}1\\\\2\\\\-6\\end{pmatrix} = \\begin{pmatrix}5\\\\1\\\\3\\end{pmatrix}, \\quad T \\begin{pmatrix}-1\\\\-1\\\\5\\end{pmatrix} = \\begin{pmatrix}1\\\\1\\\\5\\end{pmatrix},\\quad T \\begin{pmatrix}0\\\\-1\\\\2\\end{pmatrix} = \\begin{pmatrix}5\\\\3\\\\-2\\end{pmatrix}.\n",
    "$$\n",
    "\n",
    "Find the standard matrix $A$ for $T$. Compute $T(\\vec{x})$ for $\\vec{x}= \\begin{pmatrix}1\\\\1\\\\1\\end{pmatrix}$."
   ]
  },
  {
   "cell_type": "code",
   "execution_count": null,
   "metadata": {
    "scrolled": true
   },
   "outputs": [],
   "source": [
    "# your work\n",
    "\n"
   ]
  },
  {
   "cell_type": "code",
   "execution_count": null,
   "metadata": {},
   "outputs": [],
   "source": []
  },
  {
   "cell_type": "markdown",
   "metadata": {},
   "source": [
    "## Your Answer\n",
    "Assign the standard matrix to variable `A` and the vector $T(\\vec{x})$ to variable `y`. Run the following codes when ready."
   ]
  },
  {
   "cell_type": "code",
   "execution_count": null,
   "metadata": {
    "scrolled": true
   },
   "outputs": [],
   "source": [
    "\n",
    "\n",
    "#-------------\n",
    "print(f\"The standard matrix A is \\n{A}\\n\\n----\\n\")\n",
    "print(f\"T(x) = {y}\")"
   ]
  },
  {
   "cell_type": "markdown",
   "metadata": {},
   "source": [
    "# Problem 2 - Reflection about any line through origin (1)\n",
    "From this point onwards, run the following utility functions to help with plotting image matrices."
   ]
  },
  {
   "cell_type": "code",
   "execution_count": null,
   "metadata": {},
   "outputs": [],
   "source": [
    "def plot_image_matrix(*matrices,colors=[],labels=[],includeorigin=True):\n",
    "    \"\"\"Plot points in matrices. Return graphic object containing the pictures, use show(..) to see it\"\"\"\n",
    "    if colors == []:\n",
    "        colors = ['blue','red','purple','green','brown'] # default colors list\n",
    "    if labels == []:\n",
    "        labels = ['matrix' + str(i) for i in range(len(matrices))]\n",
    "    if includeorigin:\n",
    "        g = list_plot([(0,0)],color='white') # add the invisible point at origin so we see axes\n",
    "    else:\n",
    "        g = list_plot([])\n",
    "    for i in range(len(matrices)):\n",
    "        mat = matrices[i]\n",
    "        ptstoplot = list(map(lambda col: (col[0],col[1]), mat.columns())) # use only first two coordinates\n",
    "        lb = labels[i]\n",
    "        c = colors[i]\n",
    "        g = g + list_plot(ptstoplot,plotjoined=True,\n",
    "                          marker='o',legend_label=lb,color=c)\n",
    "    return g\n",
    "\n",
    "def rotmat(theta):\n",
    "    \"\"\"Rotation matrix by angle t radians counter-clockwise around the origin\"\"\"\n",
    "    col1 = (cos(theta),sin(theta))\n",
    "    col2 = (-sin(theta),cos(theta))\n",
    "    return matrix([col1,col2]).T"
   ]
  },
  {
   "cell_type": "markdown",
   "metadata": {},
   "source": [
    "Let $P$ be the image matrix of the `mytriangle` below. Consider the line $L$ given by equation $y=1/5 x$ (the black line in the following picture.)"
   ]
  },
  {
   "cell_type": "code",
   "execution_count": null,
   "metadata": {
    "scrolled": true
   },
   "outputs": [],
   "source": [
    "pts = [(1,1),(-3,2),(4,6),(1,1)]\n",
    "P = matrix(pts).T\n",
    "\n",
    "pic = plot_image_matrix(P,labels=['mytriangle'])\n",
    "g1 = plot(1/5*x,-10,10,color='black')\n",
    "show(pic+g1,gridlines=true,aspect_ratio=1)"
   ]
  },
  {
   "cell_type": "markdown",
   "metadata": {},
   "source": [
    "Let $T: \\mathbb{R}^2 \\longrightarrow \\mathbb{R}^2$ be the reflection about the line $L$. You will find its standard matrix $A$.\n",
    "\n",
    "Let $\\vec{u} = \\begin{pmatrix}5\\\\1\\end{pmatrix}$, $\\vec{v} = \\begin{pmatrix}-1\\\\5\\end{pmatrix}$. Then $\\vec{u}$ is a vector along the line whereas $\\vec{v}$ is perpendicular to it. Run the codes below to see the illustration."
   ]
  },
  {
   "cell_type": "code",
   "execution_count": null,
   "metadata": {},
   "outputs": [],
   "source": [
    "g1 = plot(1/5*x,-10,10,color='black')\n",
    "g2 = list_plot([(0,0),(5,1)],plotjoined=True,marker='o',color='blue') # vector u is blue\n",
    "g3 = list_plot([(0,0),(-1,5)],plotjoined=True,marker='o',color='red') # vector v is red\n",
    "show(g1+g2+g3,gridlines=true,aspect_ratio=1)"
   ]
  },
  {
   "cell_type": "markdown",
   "metadata": {},
   "source": [
    "By \"knowing\" the vectors $A \\vec{u}$ and $A\\vec{v}$. Find the matrix $A$."
   ]
  },
  {
   "cell_type": "code",
   "execution_count": null,
   "metadata": {},
   "outputs": [],
   "source": [
    "# your work\n"
   ]
  },
  {
   "cell_type": "code",
   "execution_count": null,
   "metadata": {},
   "outputs": [],
   "source": []
  },
  {
   "cell_type": "markdown",
   "metadata": {},
   "source": [
    "## Your Answer"
   ]
  },
  {
   "cell_type": "markdown",
   "metadata": {},
   "source": [
    "Assign the standard matrix to the variable `A`. You will print out the matrix A together with the picture of `mytriangle` and its reflection. Run the following codes when ready."
   ]
  },
  {
   "cell_type": "code",
   "execution_count": null,
   "metadata": {},
   "outputs": [],
   "source": [
    "\n",
    "\n",
    "P1 = ... #<- say P1 is your reflected mytriangle\n",
    "myname = 'your_name'  # <- use your name for the \"name stamp\"\n",
    "\n",
    "pic = plot_image_matrix(P,P1,labels=['mytriangle','relfected mytriangle'])\n",
    "\n",
    "#------don't need to change the following codes---\n",
    "print(f\"The matrix A is \\n{A}\")\n",
    "g1 = plot(1/5*x,-10,10,color='black')\n",
    "txt = text(f'Created by: {myname}',(-8,4),background_color='orange')\n",
    "show(pic+g1+txt,gridlines=true,aspect_ratio=1)"
   ]
  },
  {
   "cell_type": "markdown",
   "metadata": {},
   "source": [
    "# Problem 3 - Reflection about any line through origin (2)"
   ]
  },
  {
   "cell_type": "markdown",
   "metadata": {},
   "source": [
    "Now you are going to reflect the following `stealth bomber` about the line $y=-4x$. This time you will do everything by yourself without my helping codes (except for the plotting part).\n",
    "\n",
    "Run the codes below to see the bomber and define its image matrix P. The black line is the line $y=-4x$."
   ]
  },
  {
   "cell_type": "code",
   "execution_count": null,
   "metadata": {},
   "outputs": [],
   "source": [
    "pts =[(-2.5,0.5) ,(-3,0) ,(-2,3) ,(-1,0) ,(-1.5,0.5) ,(-2,0.25),(-2.5,0.5)]\n",
    "P = matrix(pts).T\n",
    "\n",
    "pic = plot_image_matrix(P,labels=['stealth bomber'])\n",
    "g1 = plot(-4*x,-1,1,color='black')\n",
    "g2 = list_plot([(-4,-4),(4,4)],color='white')\n",
    "show(pic+g1+g2,gridlines=true,aspect_ratio=1)"
   ]
  },
  {
   "cell_type": "code",
   "execution_count": null,
   "metadata": {},
   "outputs": [],
   "source": [
    "#your work\n"
   ]
  },
  {
   "cell_type": "code",
   "execution_count": null,
   "metadata": {},
   "outputs": [],
   "source": []
  },
  {
   "cell_type": "code",
   "execution_count": null,
   "metadata": {},
   "outputs": [],
   "source": []
  },
  {
   "cell_type": "markdown",
   "metadata": {},
   "source": [
    "## Your Answer"
   ]
  },
  {
   "cell_type": "markdown",
   "metadata": {},
   "source": [
    "Assign the transformation matrix to varialbe `A`. Assign the resulting image matrix to variable `P1`. Run the following codes when ready."
   ]
  },
  {
   "cell_type": "code",
   "execution_count": null,
   "metadata": {},
   "outputs": [],
   "source": [
    "\n",
    "\n",
    "\n",
    "myname = 'your_name'  # <- use your name\n",
    "\n",
    "#------don't need to change the following codes---\n",
    "print(f'The transformation matrix A is\\n{A}')\n",
    "pic = plot_image_matrix(P,P1,labels=['stealth bomber','reflected stealth bomber'])\n",
    "g1 = plot(-4*x,-1,1,color='black')\n",
    "g2 = list_plot([(-4,-4),(4,4)],color='white')\n",
    "txt = text(f'Created by: {myname}',(-3,-2),background_color='orange')\n",
    "show(pic+g1+g2+txt,gridlines=true,aspect_ratio=1)"
   ]
  },
  {
   "cell_type": "markdown",
   "metadata": {},
   "source": [
    "More blank coding cells if you need them..."
   ]
  },
  {
   "cell_type": "code",
   "execution_count": null,
   "metadata": {},
   "outputs": [],
   "source": []
  },
  {
   "cell_type": "code",
   "execution_count": null,
   "metadata": {},
   "outputs": [],
   "source": []
  },
  {
   "cell_type": "code",
   "execution_count": null,
   "metadata": {},
   "outputs": [],
   "source": []
  },
  {
   "cell_type": "code",
   "execution_count": null,
   "metadata": {},
   "outputs": [],
   "source": []
  }
 ],
 "metadata": {
  "kernelspec": {
   "display_name": "SageMath 9.0",
   "language": "sage",
   "name": "sagemath"
  },
  "language_info": {
   "codemirror_mode": {
    "name": "ipython",
    "version": 3
   },
   "file_extension": ".py",
   "mimetype": "text/x-python",
   "name": "python",
   "nbconvert_exporter": "python",
   "pygments_lexer": "ipython3",
   "version": "3.7.3"
  }
 },
 "nbformat": 4,
 "nbformat_minor": 2
}
