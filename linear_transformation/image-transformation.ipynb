{
 "cells": [
  {
   "cell_type": "markdown",
   "metadata": {},
   "source": [
    "# Application to Image Transformations\n"
   ]
  },
  {
   "cell_type": "code",
   "execution_count": null,
   "metadata": {},
   "outputs": [],
   "source": []
  },
  {
   "cell_type": "markdown",
   "metadata": {},
   "source": [
    "## Example 1 - Apply matrix transformation to image matrix\n",
    "\n",
    "Suppose we want to rotate the following triangle by $\\pi/2$ (or $90^\\circ$) counter-clockwise around the origin."
   ]
  },
  {
   "cell_type": "code",
   "execution_count": null,
   "metadata": {},
   "outputs": [],
   "source": [
    "# create a list of points (vertices of a triangle)\n",
    "pts = [(3,1),(2,6),(-1,4),(3,1)]\n",
    "\n",
    "# plot this list of points\n",
    "list_plot(pts,plotjoined=True,gridlines=True,marker='o',legend_label=\"mytriangle\")"
   ]
  },
  {
   "cell_type": "code",
   "execution_count": null,
   "metadata": {},
   "outputs": [],
   "source": [
    "A = matrix(2,2,[0,-1,1,0])\n",
    "P = matrix(2,4,[3,2,-1,3,1,6,4,1])\n",
    "AP = A*P\n",
    "print(f'A*P=\\n{AP}')"
   ]
  },
  {
   "cell_type": "markdown",
   "metadata": {},
   "source": [
    "This means the point (3,1) is mapped to (-1,3), the point (2,6) is mapped to (-6,2) etc. Thus the columns of $AP$ are coordinates of the new triangle under this transformation.\n",
    "\n",
    "Now, let's plot the resulting triangle given by image matrix $AP$."
   ]
  },
  {
   "cell_type": "code",
   "execution_count": null,
   "metadata": {},
   "outputs": [],
   "source": [
    "def mat_to_pts(mat):\n",
    "    \"convert each column of the matrix mat into a points so we can plot them\"\n",
    "    return list(map(lambda col: (col[0],col[1]), mat.columns()))\n",
    "    \n",
    "pts1 = mat_to_pts(P) # vertices of mytriangle\n",
    "pts2 = mat_to_pts(AP) # vertices of the new mytriangle\n",
    "\n",
    "g1 = list_plot(pts1,plotjoined=True,gridlines=True,marker='o',color='blue',legend_label=\"mytriangle\")\n",
    "g2 = list_plot(pts2,plotjoined=True,gridlines=True,marker='o',color='red',legend_label=\"myrotatedtriangle\")\n",
    "show(g1+g2)\n"
   ]
  },
  {
   "cell_type": "code",
   "execution_count": null,
   "metadata": {},
   "outputs": [],
   "source": []
  },
  {
   "cell_type": "markdown",
   "metadata": {},
   "source": [
    "## Utility functions\n",
    "\n",
    "For convenience, let's define a function that will return the plot of points (columns) of the input matrix (or matrices)"
   ]
  },
  {
   "cell_type": "code",
   "execution_count": null,
   "metadata": {},
   "outputs": [],
   "source": [
    "def plot_image_matrix(*matrices,colors=[],labels=[],includeorigin=True):\n",
    "    \"\"\"Plot points in matrices. Return graphic object containing the pictures, use show(..) to see it\"\"\"\n",
    "    if colors == []:\n",
    "        colors = ['blue','red','purple','green','brown'] # default colors list\n",
    "    if labels == []:\n",
    "        labels = ['matrix' + str(i) for i in range(len(matrices))]\n",
    "    if includeorigin:\n",
    "        g = list_plot([(0,0)],color='white') # add the invisible point at origin so we see axes\n",
    "    else:\n",
    "        g = list_plot([])\n",
    "    for i in range(len(matrices)):\n",
    "        mat = matrices[i]\n",
    "        ptstoplot = list(map(lambda col: (col[0],col[1]), mat.columns())) # use only first two coordinates\n",
    "        lb = labels[i]\n",
    "        c = colors[i]\n",
    "        g = g + list_plot(ptstoplot,plotjoined=True,\n",
    "                          marker='o',legend_label=lb,color=c)\n",
    "    return g"
   ]
  },
  {
   "cell_type": "markdown",
   "metadata": {},
   "source": [
    "Since we use the rotation matrix oftern, we will define a function that returns the rotation matrix by angle $\\theta$ counterclockwise as well."
   ]
  },
  {
   "cell_type": "code",
   "execution_count": null,
   "metadata": {},
   "outputs": [],
   "source": [
    "def rotmat(theta):\n",
    "    \"\"\"Rotation matrix by angle t radians counter-clockwise around the origin\"\"\"\n",
    "    col1 = (cos(theta),sin(theta))\n",
    "    col2 = (-sin(theta),cos(theta))\n",
    "    return matrix([col1,col2]).T"
   ]
  },
  {
   "cell_type": "code",
   "execution_count": null,
   "metadata": {},
   "outputs": [],
   "source": []
  },
  {
   "cell_type": "markdown",
   "metadata": {},
   "source": [
    "Now we can do Example 1 again with with the following convenient commands:"
   ]
  },
  {
   "cell_type": "code",
   "execution_count": null,
   "metadata": {},
   "outputs": [],
   "source": [
    "#Step 1 > define vertices of my triangle, note that the last point is same as first point to close the loop\n",
    "pts = [(3,1),(2,6),(-1,4),(3,1)]\n",
    "\n",
    "#Setp 2 > create the image matrix whose columns of the points above\n",
    "P = matrix(pts).T\n",
    "\n",
    "#Step 3 > create the resulting image matrix\n",
    "AP = A*P\n",
    "\n",
    "#Step 4 > plot both images on the same plane\n",
    "pic = plot_image_matrix(P,AP,labels=['matrix P','matrix AP'])\n",
    "show(pic,gridlines=true,aspect_ratio=1)"
   ]
  },
  {
   "cell_type": "markdown",
   "metadata": {},
   "source": [
    "**Practice.** Can you reflect `mytriangle` about $y$-axis?"
   ]
  },
  {
   "cell_type": "code",
   "execution_count": null,
   "metadata": {},
   "outputs": [],
   "source": [
    "\n"
   ]
  },
  {
   "cell_type": "markdown",
   "metadata": {},
   "source": [
    "**Practice.** Can you reflect `mytriangle` about the line $y=x$?"
   ]
  },
  {
   "cell_type": "code",
   "execution_count": null,
   "metadata": {},
   "outputs": [],
   "source": [
    "\n"
   ]
  },
  {
   "cell_type": "markdown",
   "metadata": {},
   "source": [
    "**Practice.** Can you project `mytriangle` onto the $x$-axis?"
   ]
  },
  {
   "cell_type": "code",
   "execution_count": null,
   "metadata": {},
   "outputs": [],
   "source": [
    "\n"
   ]
  },
  {
   "cell_type": "markdown",
   "metadata": {},
   "source": [
    "## Example 2 - Effect of matrix transformations\n",
    "\n",
    "The following points give the letter \"M\". Run the codes to see it."
   ]
  },
  {
   "cell_type": "code",
   "execution_count": null,
   "metadata": {},
   "outputs": [],
   "source": [
    "pts = [(0.,0.) ,(0.,3.) ,(1.,3.) ,(2.,2.) ,(3.,3.) ,(4.,3.) ,(4.,0.),(3.,0.) ,(3.,2.) ,(2.,1.) ,(1.,2.) ,(1.,0.) ,(0,0)]\n",
    "P = matrix(pts).T\n",
    "\n",
    "pic = plot_image_matrix(P,labels=['matrix P'])\n",
    "show(pic,gridlines=true,aspect_ratio=1)"
   ]
  },
  {
   "cell_type": "markdown",
   "metadata": {},
   "source": [
    "The following matrices are to be applied to the image matrix $P$ of the letter \"M\". Can you match which picture is the result of which matrix?\n",
    "\n",
    "$$A1 = \\begin{pmatrix}2&0\\\\0&1\\end{pmatrix},\\, A2= \\begin{pmatrix}1&0\\\\0&-3\\end{pmatrix},\\, A3=\\begin{pmatrix}2&0\\\\0&-3\\end{pmatrix},\\, A4=\\begin{pmatrix}1&1\\\\0&1\\end{pmatrix}$$\n",
    "\n",
    "<img src=\"https://prmath.github.io/icma224web/images/letter-m-transforms.png\">\n"
   ]
  },
  {
   "cell_type": "code",
   "execution_count": null,
   "metadata": {},
   "outputs": [],
   "source": []
  },
  {
   "cell_type": "markdown",
   "metadata": {},
   "source": [
    "Let's see the effect of each matrix.\n",
    "\n",
    "$A1 = \\begin{pmatrix}2&0\\\\0&1\\end{pmatrix}$"
   ]
  },
  {
   "cell_type": "code",
   "execution_count": null,
   "metadata": {},
   "outputs": [],
   "source": [
    "A1 = matrix(2,2,[2,0,\n",
    "                 0,1])\n",
    "P1 = A1*P\n",
    "pic = plot_image_matrix(P,P1)\n",
    "show(pic,gridlines=true,aspect_ratio=1)"
   ]
  },
  {
   "cell_type": "markdown",
   "metadata": {},
   "source": [
    "$A2= \\begin{pmatrix}1&0\\\\0&-3\\end{pmatrix}$"
   ]
  },
  {
   "cell_type": "code",
   "execution_count": null,
   "metadata": {},
   "outputs": [],
   "source": [
    "A2 = matrix(2,2,[1,0,\n",
    "                 0,-3])\n"
   ]
  },
  {
   "cell_type": "markdown",
   "metadata": {},
   "source": [
    "$A3=\\begin{pmatrix}2&0\\\\0&-3\\end{pmatrix}$"
   ]
  },
  {
   "cell_type": "code",
   "execution_count": null,
   "metadata": {},
   "outputs": [],
   "source": [
    "\n"
   ]
  },
  {
   "cell_type": "markdown",
   "metadata": {},
   "source": [
    "$A4=\\begin{pmatrix}1&1\\\\0&1\\end{pmatrix}$"
   ]
  },
  {
   "cell_type": "code",
   "execution_count": null,
   "metadata": {},
   "outputs": [],
   "source": [
    "\n"
   ]
  },
  {
   "cell_type": "code",
   "execution_count": null,
   "metadata": {},
   "outputs": [],
   "source": []
  },
  {
   "cell_type": "code",
   "execution_count": null,
   "metadata": {},
   "outputs": [],
   "source": []
  },
  {
   "cell_type": "markdown",
   "metadata": {},
   "source": [
    "## Example 3 - Composing linear transformations\n",
    "\n",
    "Let's reflect the letter \"M\" (defined before) about the $x$-axis and then reflect the resulting image about the line $y=x$. \n",
    "\n",
    "What is the matrix $A$ such that $AP$ gives the final image?"
   ]
  },
  {
   "cell_type": "code",
   "execution_count": null,
   "metadata": {},
   "outputs": [],
   "source": [
    "\n",
    "\n",
    "\n",
    "pic = plot_image_matrix( )\n",
    "show(pic,gridlines=true,aspect_ratio=1)"
   ]
  },
  {
   "cell_type": "code",
   "execution_count": null,
   "metadata": {},
   "outputs": [],
   "source": [
    "\n",
    "\n",
    "print(f'A = \\n{A}')\n",
    "pic = plot_image_matrix( )\n",
    "show(pic,gridlines=true,aspect_ratio=1)"
   ]
  },
  {
   "cell_type": "code",
   "execution_count": null,
   "metadata": {},
   "outputs": [],
   "source": []
  },
  {
   "cell_type": "markdown",
   "metadata": {},
   "source": [
    "## Exercise\n",
    "\n",
    "Let $P$ be an image matrix of the following \"stealth bomber\". (Run the codes to see the picture.)"
   ]
  },
  {
   "cell_type": "code",
   "execution_count": null,
   "metadata": {},
   "outputs": [],
   "source": [
    "pts =[(-2.5,0.5) ,(-3,0) ,(-2,2) ,(-1,0) ,(-1.5,0.5) ,(-2,0.25),(-2.5,0.5)]\n",
    "P = matrix(pts).T\n",
    "pic = plot_image_matrix(P)\n",
    "show(pic,gridlines=true,aspect_ratio=1)"
   ]
  },
  {
   "cell_type": "markdown",
   "metadata": {},
   "source": [
    "Perform the following actions consecutively (each action is applied to the previous result). \n",
    "1. Reflect about the $x$-axis.\n",
    "2. Rotate by $60^\\circ$ couter-clockwise around the origin.\n",
    "3. Reflect about the line $y=x$.\n",
    "\n",
    "Create a picture of this sequence of transformations. Find the matrix $A$ such that $AP$ gives the final image."
   ]
  },
  {
   "cell_type": "code",
   "execution_count": null,
   "metadata": {},
   "outputs": [],
   "source": [
    "\n",
    "\n",
    "\n",
    "\n",
    "pic = plot_image_matrix( )\n",
    "show(pic,gridlines=true,aspect_ratio=1)"
   ]
  },
  {
   "cell_type": "code",
   "execution_count": null,
   "metadata": {},
   "outputs": [],
   "source": [
    "\n",
    "\n",
    "\n",
    "pic = plot_image_matrix( )\n",
    "show(pic,gridlines=true,aspect_ratio=1)"
   ]
  },
  {
   "cell_type": "code",
   "execution_count": null,
   "metadata": {},
   "outputs": [],
   "source": []
  }
 ],
 "metadata": {
  "kernelspec": {
   "display_name": "SageMath 9.0",
   "language": "sage",
   "name": "sagemath"
  },
  "language_info": {
   "codemirror_mode": {
    "name": "ipython",
    "version": 3
   },
   "file_extension": ".py",
   "mimetype": "text/x-python",
   "name": "python",
   "nbconvert_exporter": "python",
   "pygments_lexer": "ipython3",
   "version": "3.7.3"
  }
 },
 "nbformat": 4,
 "nbformat_minor": 2
}
